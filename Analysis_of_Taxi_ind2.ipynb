{
  "nbformat": 4,
  "nbformat_minor": 0,
  "metadata": {
    "colab": {
      "provenance": [],
      "include_colab_link": true
    },
    "kernelspec": {
      "name": "python3",
      "display_name": "Python 3"
    },
    "language_info": {
      "name": "python"
    },
    "accelerator": "GPU"
  },
  "cells": [
    {
      "cell_type": "markdown",
      "metadata": {
        "id": "view-in-github",
        "colab_type": "text"
      },
      "source": [
        "<a href=\"https://colab.research.google.com/github/Tanisha2626/Analysis_of_taxi_Industry_in_NYC/blob/main/Analysis_of_Taxi_ind2.ipynb\" target=\"_parent\"><img src=\"https://colab.research.google.com/assets/colab-badge.svg\" alt=\"Open In Colab\"/></a>"
      ]
    },
    {
      "cell_type": "code",
      "metadata": {
        "colab": {
          "base_uri": "https://localhost:8080/"
        },
        "id": "XyjswJZZOSi3",
        "outputId": "3e6147d2-321a-498b-8024-82b1bdec1b22"
      },
      "source": [
        "from google.colab import drive\n",
        "drive.mount('/content/drive')"
      ],
      "execution_count": null,
      "outputs": [
        {
          "output_type": "stream",
          "name": "stdout",
          "text": [
            "Drive already mounted at /content/drive; to attempt to forcibly remount, call drive.mount(\"/content/drive\", force_remount=True).\n"
          ]
        }
      ]
    },
    {
      "cell_type": "code",
      "metadata": {
        "id": "Ja8g0TGAOt6a"
      },
      "source": [
        "import numpy as np\n",
        "import pandas as pd\n",
        "import matplotlib.pyplot as plt\n",
        "import seaborn as sns\n",
        "import datetime as dt\n",
        "from datetime import timedelta\n",
        "import calendar\n",
        "import matplotlib.dates as mdates\n",
        "from math import radians, cos, sin, asin, sqrt\n",
        "import tensorflow as tf\n",
        "from tensorflow import keras\n",
        "from tensorflow.keras import layers\n",
        "from tensorflow.keras.callbacks import ModelCheckpoint\n",
        "!pip install livelossplot\n",
        "from livelossplot import PlotLossesKerasTF\n",
        "from sklearn.model_selection import train_test_split\n",
        "from sklearn.utils import shuffle\n",
        "import random\n",
        "random.seed(0)\n",
        "print(tf.__version__)"
      ],
      "execution_count": null,
      "outputs": []
    },
    {
      "cell_type": "code",
      "metadata": {
        "id": "79LJOaFmPI1R"
      },
      "source": [
        "#2016 NYC Yellow Cab Trip Data\n",
        "train_df = pd.read_csv('/content/drive/MyDrive/analysis_of_taxi_ind/PROJECT/train.csv')"
      ],
      "execution_count": null,
      "outputs": []
    },
    {
      "cell_type": "code",
      "metadata": {
        "colab": {
          "base_uri": "https://localhost:8080/",
          "height": 293
        },
        "id": "Al5cpx10TV5v",
        "outputId": "bbb23a7d-2849-4a22-e64c-a1d9a140d5c1"
      },
      "source": [
        "train_df.head()"
      ],
      "execution_count": null,
      "outputs": [
        {
          "output_type": "execute_result",
          "data": {
            "text/html": [
              "<div>\n",
              "<style scoped>\n",
              "    .dataframe tbody tr th:only-of-type {\n",
              "        vertical-align: middle;\n",
              "    }\n",
              "\n",
              "    .dataframe tbody tr th {\n",
              "        vertical-align: top;\n",
              "    }\n",
              "\n",
              "    .dataframe thead th {\n",
              "        text-align: right;\n",
              "    }\n",
              "</style>\n",
              "<table border=\"1\" class=\"dataframe\">\n",
              "  <thead>\n",
              "    <tr style=\"text-align: right;\">\n",
              "      <th></th>\n",
              "      <th>id</th>\n",
              "      <th>vendor_id</th>\n",
              "      <th>pickup_datetime</th>\n",
              "      <th>dropoff_datetime</th>\n",
              "      <th>passenger_count</th>\n",
              "      <th>pickup_longitude</th>\n",
              "      <th>pickup_latitude</th>\n",
              "      <th>dropoff_longitude</th>\n",
              "      <th>dropoff_latitude</th>\n",
              "      <th>store_and_fwd_flag</th>\n",
              "      <th>trip_duration</th>\n",
              "    </tr>\n",
              "  </thead>\n",
              "  <tbody>\n",
              "    <tr>\n",
              "      <th>0</th>\n",
              "      <td>id2875421</td>\n",
              "      <td>2</td>\n",
              "      <td>2016-03-14 17:24:55</td>\n",
              "      <td>2016-03-14 17:32:30</td>\n",
              "      <td>1</td>\n",
              "      <td>-73.982155</td>\n",
              "      <td>40.767937</td>\n",
              "      <td>-73.964630</td>\n",
              "      <td>40.765602</td>\n",
              "      <td>N</td>\n",
              "      <td>455</td>\n",
              "    </tr>\n",
              "    <tr>\n",
              "      <th>1</th>\n",
              "      <td>id2377394</td>\n",
              "      <td>1</td>\n",
              "      <td>2016-06-12 00:43:35</td>\n",
              "      <td>2016-06-12 00:54:38</td>\n",
              "      <td>1</td>\n",
              "      <td>-73.980415</td>\n",
              "      <td>40.738564</td>\n",
              "      <td>-73.999481</td>\n",
              "      <td>40.731152</td>\n",
              "      <td>N</td>\n",
              "      <td>663</td>\n",
              "    </tr>\n",
              "    <tr>\n",
              "      <th>2</th>\n",
              "      <td>id3858529</td>\n",
              "      <td>2</td>\n",
              "      <td>2016-01-19 11:35:24</td>\n",
              "      <td>2016-01-19 12:10:48</td>\n",
              "      <td>1</td>\n",
              "      <td>-73.979027</td>\n",
              "      <td>40.763939</td>\n",
              "      <td>-74.005333</td>\n",
              "      <td>40.710087</td>\n",
              "      <td>N</td>\n",
              "      <td>2124</td>\n",
              "    </tr>\n",
              "    <tr>\n",
              "      <th>3</th>\n",
              "      <td>id3504673</td>\n",
              "      <td>2</td>\n",
              "      <td>2016-04-06 19:32:31</td>\n",
              "      <td>2016-04-06 19:39:40</td>\n",
              "      <td>1</td>\n",
              "      <td>-74.010040</td>\n",
              "      <td>40.719971</td>\n",
              "      <td>-74.012268</td>\n",
              "      <td>40.706718</td>\n",
              "      <td>N</td>\n",
              "      <td>429</td>\n",
              "    </tr>\n",
              "    <tr>\n",
              "      <th>4</th>\n",
              "      <td>id2181028</td>\n",
              "      <td>2</td>\n",
              "      <td>2016-03-26 13:30:55</td>\n",
              "      <td>2016-03-26 13:38:10</td>\n",
              "      <td>1</td>\n",
              "      <td>-73.973053</td>\n",
              "      <td>40.793209</td>\n",
              "      <td>-73.972923</td>\n",
              "      <td>40.782520</td>\n",
              "      <td>N</td>\n",
              "      <td>435</td>\n",
              "    </tr>\n",
              "  </tbody>\n",
              "</table>\n",
              "</div>"
            ],
            "text/plain": [
              "          id  vendor_id  ... store_and_fwd_flag trip_duration\n",
              "0  id2875421          2  ...                  N           455\n",
              "1  id2377394          1  ...                  N           663\n",
              "2  id3858529          2  ...                  N          2124\n",
              "3  id3504673          2  ...                  N           429\n",
              "4  id2181028          2  ...                  N           435\n",
              "\n",
              "[5 rows x 11 columns]"
            ]
          },
          "metadata": {},
          "execution_count": 4
        }
      ]
    },
    {
      "cell_type": "markdown",
      "metadata": {
        "id": "6CMQVAgX6wiJ"
      },
      "source": [
        "# Pre-processing and EDA"
      ]
    },
    {
      "cell_type": "code",
      "metadata": {
        "colab": {
          "base_uri": "https://localhost:8080/",
          "height": 293
        },
        "id": "_dWhrZujTjB_",
        "outputId": "32e0d646-7815-4e57-e2f3-61ba2888688a"
      },
      "source": [
        "#conversion to date-time object\n",
        "train_df['pickup_datetime'] = pd.to_datetime(train_df['pickup_datetime'], format = '%Y-%m-%d %H:%M:%S')\n",
        "train_df['dropoff_datetime'] = pd.to_datetime(train_df['dropoff_datetime'], format = '%Y-%m-%d %H:%M:%S')\n",
        "train_df.head()"
      ],
      "execution_count": null,
      "outputs": [
        {
          "output_type": "execute_result",
          "data": {
            "text/html": [
              "<div>\n",
              "<style scoped>\n",
              "    .dataframe tbody tr th:only-of-type {\n",
              "        vertical-align: middle;\n",
              "    }\n",
              "\n",
              "    .dataframe tbody tr th {\n",
              "        vertical-align: top;\n",
              "    }\n",
              "\n",
              "    .dataframe thead th {\n",
              "        text-align: right;\n",
              "    }\n",
              "</style>\n",
              "<table border=\"1\" class=\"dataframe\">\n",
              "  <thead>\n",
              "    <tr style=\"text-align: right;\">\n",
              "      <th></th>\n",
              "      <th>id</th>\n",
              "      <th>vendor_id</th>\n",
              "      <th>pickup_datetime</th>\n",
              "      <th>dropoff_datetime</th>\n",
              "      <th>passenger_count</th>\n",
              "      <th>pickup_longitude</th>\n",
              "      <th>pickup_latitude</th>\n",
              "      <th>dropoff_longitude</th>\n",
              "      <th>dropoff_latitude</th>\n",
              "      <th>store_and_fwd_flag</th>\n",
              "      <th>trip_duration</th>\n",
              "    </tr>\n",
              "  </thead>\n",
              "  <tbody>\n",
              "    <tr>\n",
              "      <th>0</th>\n",
              "      <td>id2875421</td>\n",
              "      <td>2</td>\n",
              "      <td>2016-03-14 17:24:55</td>\n",
              "      <td>2016-03-14 17:32:30</td>\n",
              "      <td>1</td>\n",
              "      <td>-73.982155</td>\n",
              "      <td>40.767937</td>\n",
              "      <td>-73.964630</td>\n",
              "      <td>40.765602</td>\n",
              "      <td>N</td>\n",
              "      <td>455</td>\n",
              "    </tr>\n",
              "    <tr>\n",
              "      <th>1</th>\n",
              "      <td>id2377394</td>\n",
              "      <td>1</td>\n",
              "      <td>2016-06-12 00:43:35</td>\n",
              "      <td>2016-06-12 00:54:38</td>\n",
              "      <td>1</td>\n",
              "      <td>-73.980415</td>\n",
              "      <td>40.738564</td>\n",
              "      <td>-73.999481</td>\n",
              "      <td>40.731152</td>\n",
              "      <td>N</td>\n",
              "      <td>663</td>\n",
              "    </tr>\n",
              "    <tr>\n",
              "      <th>2</th>\n",
              "      <td>id3858529</td>\n",
              "      <td>2</td>\n",
              "      <td>2016-01-19 11:35:24</td>\n",
              "      <td>2016-01-19 12:10:48</td>\n",
              "      <td>1</td>\n",
              "      <td>-73.979027</td>\n",
              "      <td>40.763939</td>\n",
              "      <td>-74.005333</td>\n",
              "      <td>40.710087</td>\n",
              "      <td>N</td>\n",
              "      <td>2124</td>\n",
              "    </tr>\n",
              "    <tr>\n",
              "      <th>3</th>\n",
              "      <td>id3504673</td>\n",
              "      <td>2</td>\n",
              "      <td>2016-04-06 19:32:31</td>\n",
              "      <td>2016-04-06 19:39:40</td>\n",
              "      <td>1</td>\n",
              "      <td>-74.010040</td>\n",
              "      <td>40.719971</td>\n",
              "      <td>-74.012268</td>\n",
              "      <td>40.706718</td>\n",
              "      <td>N</td>\n",
              "      <td>429</td>\n",
              "    </tr>\n",
              "    <tr>\n",
              "      <th>4</th>\n",
              "      <td>id2181028</td>\n",
              "      <td>2</td>\n",
              "      <td>2016-03-26 13:30:55</td>\n",
              "      <td>2016-03-26 13:38:10</td>\n",
              "      <td>1</td>\n",
              "      <td>-73.973053</td>\n",
              "      <td>40.793209</td>\n",
              "      <td>-73.972923</td>\n",
              "      <td>40.782520</td>\n",
              "      <td>N</td>\n",
              "      <td>435</td>\n",
              "    </tr>\n",
              "  </tbody>\n",
              "</table>\n",
              "</div>"
            ],
            "text/plain": [
              "          id  vendor_id  ... store_and_fwd_flag trip_duration\n",
              "0  id2875421          2  ...                  N           455\n",
              "1  id2377394          1  ...                  N           663\n",
              "2  id3858529          2  ...                  N          2124\n",
              "3  id3504673          2  ...                  N           429\n",
              "4  id2181028          2  ...                  N           435\n",
              "\n",
              "[5 rows x 11 columns]"
            ]
          },
          "metadata": {},
          "execution_count": 5
        }
      ]
    },
    {
      "cell_type": "code",
      "metadata": {
        "colab": {
          "base_uri": "https://localhost:8080/"
        },
        "id": "d2YD37r448YR",
        "outputId": "fc202e64-8c81-47c3-e526-cdfc81a002ce"
      },
      "source": [
        "#checking for missing values\n",
        "train_df[pd.isnull(train_df)].sum()"
      ],
      "execution_count": null,
      "outputs": [
        {
          "output_type": "execute_result",
          "data": {
            "text/plain": [
              "id                    0.0\n",
              "vendor_id             0.0\n",
              "passenger_count       0.0\n",
              "pickup_longitude      0.0\n",
              "pickup_latitude       0.0\n",
              "dropoff_longitude     0.0\n",
              "dropoff_latitude      0.0\n",
              "store_and_fwd_flag    0.0\n",
              "trip_duration         0.0\n",
              "dtype: float64"
            ]
          },
          "metadata": {},
          "execution_count": 6
        }
      ]
    },
    {
      "cell_type": "code",
      "metadata": {
        "colab": {
          "base_uri": "https://localhost:8080/"
        },
        "id": "lQgSXCW78EYF",
        "outputId": "ebd4c963-db90-4417-f4fb-031460edf4a7"
      },
      "source": [
        "#range of data set dates\n",
        "print('--------------------Training Data------------------------------')\n",
        "print(\"Earliest timestamp in dataset:\", min(train_df['pickup_datetime']))\n",
        "print(\"Latest timestamp in dataset:\", max(train_df['pickup_datetime']))"
      ],
      "execution_count": null,
      "outputs": [
        {
          "output_type": "stream",
          "name": "stdout",
          "text": [
            "--------------------Training Data------------------------------\n",
            "Earliest timestamp in dataset: 2016-01-01 00:00:17\n",
            "Latest timestamp in dataset: 2016-06-30 23:59:39\n"
          ]
        }
      ]
    },
    {
      "cell_type": "markdown",
      "metadata": {
        "id": "TmqUKaNg8vkw"
      },
      "source": [
        "The data is from 2016 only"
      ]
    },
    {
      "cell_type": "code",
      "metadata": {
        "id": "KHXpwZZD56vX"
      },
      "source": [
        "train_df['pickup_day'] = train_df['pickup_datetime'].apply(lambda x : x.month + x.day / 31)\n",
        "train_df['pickup_time'] = train_df['pickup_datetime'].apply(lambda x : x.hour + x.minute / 60)\n",
        "train_df['pickup_day_of_week'] = train_df['pickup_datetime'].apply(lambda x : calendar.day_name[x.weekday()])\n",
        "\n",
        "train_df['dropoff_day'] = train_df['dropoff_datetime'].apply(lambda x : x.month + x.day / 31)\n",
        "train_df['dropoff_time'] = train_df['dropoff_datetime'].apply(lambda x : x.hour + x.minute / 60)\n",
        "train_df['dropoff_day_of_week'] = train_df['dropoff_datetime'].apply(lambda x : calendar.day_name[x.weekday()])"
      ],
      "execution_count": null,
      "outputs": []
    },
    {
      "cell_type": "code",
      "metadata": {
        "colab": {
          "base_uri": "https://localhost:8080/",
          "height": 313
        },
        "id": "06StO_ZU-vyz",
        "outputId": "284ea368-63ab-4110-d3f4-328e9cb7c85e"
      },
      "source": [
        "train_df.head()"
      ],
      "execution_count": null,
      "outputs": [
        {
          "output_type": "execute_result",
          "data": {
            "text/html": [
              "<div>\n",
              "<style scoped>\n",
              "    .dataframe tbody tr th:only-of-type {\n",
              "        vertical-align: middle;\n",
              "    }\n",
              "\n",
              "    .dataframe tbody tr th {\n",
              "        vertical-align: top;\n",
              "    }\n",
              "\n",
              "    .dataframe thead th {\n",
              "        text-align: right;\n",
              "    }\n",
              "</style>\n",
              "<table border=\"1\" class=\"dataframe\">\n",
              "  <thead>\n",
              "    <tr style=\"text-align: right;\">\n",
              "      <th></th>\n",
              "      <th>id</th>\n",
              "      <th>vendor_id</th>\n",
              "      <th>pickup_datetime</th>\n",
              "      <th>dropoff_datetime</th>\n",
              "      <th>passenger_count</th>\n",
              "      <th>pickup_longitude</th>\n",
              "      <th>pickup_latitude</th>\n",
              "      <th>dropoff_longitude</th>\n",
              "      <th>dropoff_latitude</th>\n",
              "      <th>store_and_fwd_flag</th>\n",
              "      <th>trip_duration</th>\n",
              "      <th>pickup_day</th>\n",
              "      <th>pickup_time</th>\n",
              "      <th>pickup_day_of_week</th>\n",
              "      <th>dropoff_day</th>\n",
              "      <th>dropoff_time</th>\n",
              "      <th>dropoff_day_of_week</th>\n",
              "    </tr>\n",
              "  </thead>\n",
              "  <tbody>\n",
              "    <tr>\n",
              "      <th>0</th>\n",
              "      <td>id2875421</td>\n",
              "      <td>2</td>\n",
              "      <td>2016-03-14 17:24:55</td>\n",
              "      <td>2016-03-14 17:32:30</td>\n",
              "      <td>1</td>\n",
              "      <td>-73.982155</td>\n",
              "      <td>40.767937</td>\n",
              "      <td>-73.964630</td>\n",
              "      <td>40.765602</td>\n",
              "      <td>N</td>\n",
              "      <td>455</td>\n",
              "      <td>3.451613</td>\n",
              "      <td>17.400000</td>\n",
              "      <td>Monday</td>\n",
              "      <td>3.451613</td>\n",
              "      <td>17.533333</td>\n",
              "      <td>Monday</td>\n",
              "    </tr>\n",
              "    <tr>\n",
              "      <th>1</th>\n",
              "      <td>id2377394</td>\n",
              "      <td>1</td>\n",
              "      <td>2016-06-12 00:43:35</td>\n",
              "      <td>2016-06-12 00:54:38</td>\n",
              "      <td>1</td>\n",
              "      <td>-73.980415</td>\n",
              "      <td>40.738564</td>\n",
              "      <td>-73.999481</td>\n",
              "      <td>40.731152</td>\n",
              "      <td>N</td>\n",
              "      <td>663</td>\n",
              "      <td>6.387097</td>\n",
              "      <td>0.716667</td>\n",
              "      <td>Sunday</td>\n",
              "      <td>6.387097</td>\n",
              "      <td>0.900000</td>\n",
              "      <td>Sunday</td>\n",
              "    </tr>\n",
              "    <tr>\n",
              "      <th>2</th>\n",
              "      <td>id3858529</td>\n",
              "      <td>2</td>\n",
              "      <td>2016-01-19 11:35:24</td>\n",
              "      <td>2016-01-19 12:10:48</td>\n",
              "      <td>1</td>\n",
              "      <td>-73.979027</td>\n",
              "      <td>40.763939</td>\n",
              "      <td>-74.005333</td>\n",
              "      <td>40.710087</td>\n",
              "      <td>N</td>\n",
              "      <td>2124</td>\n",
              "      <td>1.612903</td>\n",
              "      <td>11.583333</td>\n",
              "      <td>Tuesday</td>\n",
              "      <td>1.612903</td>\n",
              "      <td>12.166667</td>\n",
              "      <td>Tuesday</td>\n",
              "    </tr>\n",
              "    <tr>\n",
              "      <th>3</th>\n",
              "      <td>id3504673</td>\n",
              "      <td>2</td>\n",
              "      <td>2016-04-06 19:32:31</td>\n",
              "      <td>2016-04-06 19:39:40</td>\n",
              "      <td>1</td>\n",
              "      <td>-74.010040</td>\n",
              "      <td>40.719971</td>\n",
              "      <td>-74.012268</td>\n",
              "      <td>40.706718</td>\n",
              "      <td>N</td>\n",
              "      <td>429</td>\n",
              "      <td>4.193548</td>\n",
              "      <td>19.533333</td>\n",
              "      <td>Wednesday</td>\n",
              "      <td>4.193548</td>\n",
              "      <td>19.650000</td>\n",
              "      <td>Wednesday</td>\n",
              "    </tr>\n",
              "    <tr>\n",
              "      <th>4</th>\n",
              "      <td>id2181028</td>\n",
              "      <td>2</td>\n",
              "      <td>2016-03-26 13:30:55</td>\n",
              "      <td>2016-03-26 13:38:10</td>\n",
              "      <td>1</td>\n",
              "      <td>-73.973053</td>\n",
              "      <td>40.793209</td>\n",
              "      <td>-73.972923</td>\n",
              "      <td>40.782520</td>\n",
              "      <td>N</td>\n",
              "      <td>435</td>\n",
              "      <td>3.838710</td>\n",
              "      <td>13.500000</td>\n",
              "      <td>Saturday</td>\n",
              "      <td>3.838710</td>\n",
              "      <td>13.633333</td>\n",
              "      <td>Saturday</td>\n",
              "    </tr>\n",
              "  </tbody>\n",
              "</table>\n",
              "</div>"
            ],
            "text/plain": [
              "          id  vendor_id  ... dropoff_time dropoff_day_of_week\n",
              "0  id2875421          2  ...    17.533333              Monday\n",
              "1  id2377394          1  ...     0.900000              Sunday\n",
              "2  id3858529          2  ...    12.166667             Tuesday\n",
              "3  id3504673          2  ...    19.650000           Wednesday\n",
              "4  id2181028          2  ...    13.633333            Saturday\n",
              "\n",
              "[5 rows x 17 columns]"
            ]
          },
          "metadata": {},
          "execution_count": 9
        }
      ]
    },
    {
      "cell_type": "markdown",
      "metadata": {
        "id": "PA8nVxt1_tVT"
      },
      "source": [
        "As we are interested in the duration of trip, the distances between pickup and  drop locations will be important\n",
        "\n",
        "We shall be using the Haversine formula\n"
      ]
    },
    {
      "cell_type": "code",
      "metadata": {
        "id": "nmxTUt-F_py6"
      },
      "source": [
        "def distance(row):#Ref: https://www.geeksforgeeks.org/program-distance-two-points-earth/\n",
        "\n",
        "    lat1, lat2, lon1, lon2 = row['pickup_latitude'], row['dropoff_latitude'], row['pickup_longitude'], row['dropoff_longitude']\n",
        "\n",
        "    lon1 = radians(lon1)\n",
        "    lon2 = radians(lon2)\n",
        "    lat1 = radians(lat1)\n",
        "    lat2 = radians(lat2)\n",
        "\n",
        "    angle = 2 * asin(sqrt(sin((lat2 - lat1) / 2)**2 + cos(lat1) * cos(lat2) * sin((lon2 - lon1) / 2)**2))\n",
        "\n",
        "    radius = 6371\n",
        "\n",
        "    return(angle * radius)"
      ],
      "execution_count": null,
      "outputs": []
    },
    {
      "cell_type": "code",
      "metadata": {
        "colab": {
          "base_uri": "https://localhost:8080/",
          "height": 313
        },
        "id": "XlkVIy7KLXvv",
        "outputId": "b178c31f-4892-488d-da36-35acb8f37e3d"
      },
      "source": [
        "train_df['distance'] = train_df.apply(lambda row : distance(row), axis =1)\n",
        "train_df['avg_speed'] = train_df['distance'] / train_df['trip_duration']\n",
        "train_df.head()"
      ],
      "execution_count": null,
      "outputs": [
        {
          "output_type": "execute_result",
          "data": {
            "text/html": [
              "<div>\n",
              "<style scoped>\n",
              "    .dataframe tbody tr th:only-of-type {\n",
              "        vertical-align: middle;\n",
              "    }\n",
              "\n",
              "    .dataframe tbody tr th {\n",
              "        vertical-align: top;\n",
              "    }\n",
              "\n",
              "    .dataframe thead th {\n",
              "        text-align: right;\n",
              "    }\n",
              "</style>\n",
              "<table border=\"1\" class=\"dataframe\">\n",
              "  <thead>\n",
              "    <tr style=\"text-align: right;\">\n",
              "      <th></th>\n",
              "      <th>id</th>\n",
              "      <th>vendor_id</th>\n",
              "      <th>pickup_datetime</th>\n",
              "      <th>dropoff_datetime</th>\n",
              "      <th>passenger_count</th>\n",
              "      <th>pickup_longitude</th>\n",
              "      <th>pickup_latitude</th>\n",
              "      <th>dropoff_longitude</th>\n",
              "      <th>dropoff_latitude</th>\n",
              "      <th>store_and_fwd_flag</th>\n",
              "      <th>trip_duration</th>\n",
              "      <th>pickup_day</th>\n",
              "      <th>pickup_time</th>\n",
              "      <th>pickup_day_of_week</th>\n",
              "      <th>dropoff_day</th>\n",
              "      <th>dropoff_time</th>\n",
              "      <th>dropoff_day_of_week</th>\n",
              "      <th>distance</th>\n",
              "      <th>avg_speed</th>\n",
              "    </tr>\n",
              "  </thead>\n",
              "  <tbody>\n",
              "    <tr>\n",
              "      <th>0</th>\n",
              "      <td>id2875421</td>\n",
              "      <td>2</td>\n",
              "      <td>2016-03-14 17:24:55</td>\n",
              "      <td>2016-03-14 17:32:30</td>\n",
              "      <td>1</td>\n",
              "      <td>-73.982155</td>\n",
              "      <td>40.767937</td>\n",
              "      <td>-73.964630</td>\n",
              "      <td>40.765602</td>\n",
              "      <td>N</td>\n",
              "      <td>455</td>\n",
              "      <td>3.451613</td>\n",
              "      <td>17.400000</td>\n",
              "      <td>Monday</td>\n",
              "      <td>3.451613</td>\n",
              "      <td>17.533333</td>\n",
              "      <td>Monday</td>\n",
              "      <td>1.498521</td>\n",
              "      <td>0.003293</td>\n",
              "    </tr>\n",
              "    <tr>\n",
              "      <th>1</th>\n",
              "      <td>id2377394</td>\n",
              "      <td>1</td>\n",
              "      <td>2016-06-12 00:43:35</td>\n",
              "      <td>2016-06-12 00:54:38</td>\n",
              "      <td>1</td>\n",
              "      <td>-73.980415</td>\n",
              "      <td>40.738564</td>\n",
              "      <td>-73.999481</td>\n",
              "      <td>40.731152</td>\n",
              "      <td>N</td>\n",
              "      <td>663</td>\n",
              "      <td>6.387097</td>\n",
              "      <td>0.716667</td>\n",
              "      <td>Sunday</td>\n",
              "      <td>6.387097</td>\n",
              "      <td>0.900000</td>\n",
              "      <td>Sunday</td>\n",
              "      <td>1.805507</td>\n",
              "      <td>0.002723</td>\n",
              "    </tr>\n",
              "    <tr>\n",
              "      <th>2</th>\n",
              "      <td>id3858529</td>\n",
              "      <td>2</td>\n",
              "      <td>2016-01-19 11:35:24</td>\n",
              "      <td>2016-01-19 12:10:48</td>\n",
              "      <td>1</td>\n",
              "      <td>-73.979027</td>\n",
              "      <td>40.763939</td>\n",
              "      <td>-74.005333</td>\n",
              "      <td>40.710087</td>\n",
              "      <td>N</td>\n",
              "      <td>2124</td>\n",
              "      <td>1.612903</td>\n",
              "      <td>11.583333</td>\n",
              "      <td>Tuesday</td>\n",
              "      <td>1.612903</td>\n",
              "      <td>12.166667</td>\n",
              "      <td>Tuesday</td>\n",
              "      <td>6.385098</td>\n",
              "      <td>0.003006</td>\n",
              "    </tr>\n",
              "    <tr>\n",
              "      <th>3</th>\n",
              "      <td>id3504673</td>\n",
              "      <td>2</td>\n",
              "      <td>2016-04-06 19:32:31</td>\n",
              "      <td>2016-04-06 19:39:40</td>\n",
              "      <td>1</td>\n",
              "      <td>-74.010040</td>\n",
              "      <td>40.719971</td>\n",
              "      <td>-74.012268</td>\n",
              "      <td>40.706718</td>\n",
              "      <td>N</td>\n",
              "      <td>429</td>\n",
              "      <td>4.193548</td>\n",
              "      <td>19.533333</td>\n",
              "      <td>Wednesday</td>\n",
              "      <td>4.193548</td>\n",
              "      <td>19.650000</td>\n",
              "      <td>Wednesday</td>\n",
              "      <td>1.485498</td>\n",
              "      <td>0.003463</td>\n",
              "    </tr>\n",
              "    <tr>\n",
              "      <th>4</th>\n",
              "      <td>id2181028</td>\n",
              "      <td>2</td>\n",
              "      <td>2016-03-26 13:30:55</td>\n",
              "      <td>2016-03-26 13:38:10</td>\n",
              "      <td>1</td>\n",
              "      <td>-73.973053</td>\n",
              "      <td>40.793209</td>\n",
              "      <td>-73.972923</td>\n",
              "      <td>40.782520</td>\n",
              "      <td>N</td>\n",
              "      <td>435</td>\n",
              "      <td>3.838710</td>\n",
              "      <td>13.500000</td>\n",
              "      <td>Saturday</td>\n",
              "      <td>3.838710</td>\n",
              "      <td>13.633333</td>\n",
              "      <td>Saturday</td>\n",
              "      <td>1.188588</td>\n",
              "      <td>0.002732</td>\n",
              "    </tr>\n",
              "  </tbody>\n",
              "</table>\n",
              "</div>"
            ],
            "text/plain": [
              "          id  vendor_id  ...  distance avg_speed\n",
              "0  id2875421          2  ...  1.498521  0.003293\n",
              "1  id2377394          1  ...  1.805507  0.002723\n",
              "2  id3858529          2  ...  6.385098  0.003006\n",
              "3  id3504673          2  ...  1.485498  0.003463\n",
              "4  id2181028          2  ...  1.188588  0.002732\n",
              "\n",
              "[5 rows x 19 columns]"
            ]
          },
          "metadata": {},
          "execution_count": 11
        }
      ]
    },
    {
      "cell_type": "markdown",
      "metadata": {
        "id": "hhwdxlLbV_Zs"
      },
      "source": [
        "we shall see distributions of trip duration"
      ]
    },
    {
      "cell_type": "code",
      "metadata": {
        "colab": {
          "base_uri": "https://localhost:8080/",
          "height": 421
        },
        "id": "BHMCI6k4VJzo",
        "outputId": "dbf05247-957f-410a-b78b-e17b12bdc19f"
      },
      "source": [
        "plt.figure(figsize = (10,5))\n",
        "sns.distplot(x = train_df['trip_duration'])\n",
        "plt.title('Trip duration distribution')"
      ],
      "execution_count": null,
      "outputs": [
        {
          "output_type": "stream",
          "name": "stderr",
          "text": [
            "/usr/local/lib/python3.7/dist-packages/seaborn/distributions.py:2619: FutureWarning: `distplot` is a deprecated function and will be removed in a future version. Please adapt your code to use either `displot` (a figure-level function with similar flexibility) or `histplot` (an axes-level function for histograms).\n",
            "  warnings.warn(msg, FutureWarning)\n"
          ]
        },
        {
          "output_type": "execute_result",
          "data": {
            "text/plain": [
              "Text(0.5, 1.0, 'Trip duration distribution')"
            ]
          },
          "metadata": {},
          "execution_count": 12
        },
        {
          "output_type": "display_data",
          "data": {
            "image/png": "[encoded data removed]",
            "text/plain": [
              "<Figure size 720x360 with 1 Axes>"
            ]
          },
          "metadata": {
            "needs_background": "light"
          }
        }
      ]
    },
    {
      "cell_type": "markdown",
      "metadata": {
        "id": "sYpn64mUVsMA"
      },
      "source": [
        "It seems that the trip duration is very much concentrated at one place, hence we shall use log-scale on x-axis"
      ]
    },
    {
      "cell_type": "code",
      "metadata": {
        "colab": {
          "base_uri": "https://localhost:8080/",
          "height": 408
        },
        "id": "Hiu6yg1IV1Rw",
        "outputId": "7cc805af-e0e5-4faa-fe4f-cfc6ee5f5098"
      },
      "source": [
        "plt.figure(figsize = (10,5))\n",
        "sns.distplot(x = np.log(train_df['trip_duration']))\n",
        "plt.title('log-scale trip duration distribution')"
      ],
      "execution_count": null,
      "outputs": [
        {
          "output_type": "stream",
          "name": "stderr",
          "text": [
            "/usr/local/lib/python3.7/dist-packages/seaborn/distributions.py:2619: FutureWarning: `distplot` is a deprecated function and will be removed in a future version. Please adapt your code to use either `displot` (a figure-level function with similar flexibility) or `histplot` (an axes-level function for histograms).\n",
            "  warnings.warn(msg, FutureWarning)\n"
          ]
        },
        {
          "output_type": "execute_result",
          "data": {
            "text/plain": [
              "Text(0.5, 1.0, 'log-scale trip duration distribution')"
            ]
          },
          "metadata": {},
          "execution_count": 13
        },
        {
          "output_type": "display_data",
          "data": {
            "image/png": "[encoded data removed]",
            "text/plain": [
              "<Figure size 720x360 with 1 Axes>"
            ]
          },
          "metadata": {
            "needs_background": "light"
          }
        }
      ]
    },
    {
      "cell_type": "markdown",
      "metadata": {
        "id": "BHLQRGeOWKFa"
      },
      "source": [
        "This distribution is very close to normal distribution, with most of the values for trip duration between 4 to 8 on log scale, that is, 54 sec to 2981 sec."
      ]
    },
    {
      "cell_type": "code",
      "metadata": {
        "colab": {
          "base_uri": "https://localhost:8080/"
        },
        "id": "5pa1ELo28fpH",
        "outputId": "4cb75bc8-7ad8-419a-b110-1f63be57b6f3"
      },
      "source": [
        "train_df.drop(train_df[train_df['trip_duration'] > 3000].index, inplace = True)\n",
        "print(train_df.shape)"
      ],
      "execution_count": null,
      "outputs": [
        {
          "output_type": "stream",
          "name": "stdout",
          "text": [
            "(1434821, 19)\n"
          ]
        }
      ]
    },
    {
      "cell_type": "code",
      "metadata": {
        "colab": {
          "base_uri": "https://localhost:8080/",
          "height": 408
        },
        "id": "2se_O49HCiMw",
        "outputId": "5880b638-5df2-4a35-b0c0-17474ef9a3be"
      },
      "source": [
        "#log scale distribution after removing outlier points\n",
        "plt.figure(figsize = (10,5))\n",
        "sns.distplot(x = np.log(train_df['trip_duration']))\n",
        "plt.title('log-scale trip duration distribution')"
      ],
      "execution_count": null,
      "outputs": [
        {
          "output_type": "stream",
          "name": "stderr",
          "text": [
            "/usr/local/lib/python3.7/dist-packages/seaborn/distributions.py:2619: FutureWarning: `distplot` is a deprecated function and will be removed in a future version. Please adapt your code to use either `displot` (a figure-level function with similar flexibility) or `histplot` (an axes-level function for histograms).\n",
            "  warnings.warn(msg, FutureWarning)\n"
          ]
        },
        {
          "output_type": "execute_result",
          "data": {
            "text/plain": [
              "Text(0.5, 1.0, 'log-scale trip duration distribution')"
            ]
          },
          "metadata": {},
          "execution_count": 15
        },
        {
          "output_type": "display_data",
          "data": {
            "image/png": "[encoded data removed]",
            "text/plain": [
              "<Figure size 720x360 with 1 Axes>"
            ]
          },
          "metadata": {
            "needs_background": "light"
          }
        }
      ]
    },
    {
      "cell_type": "markdown",
      "metadata": {
        "id": "r9qhX3QKCwoD"
      },
      "source": [
        "As we can see, the distribution has not been changed much due to removal of outlier points"
      ]
    },
    {
      "cell_type": "markdown",
      "metadata": {
        "id": "2E-mKFyCXOkh"
      },
      "source": [
        "distance distribution"
      ]
    },
    {
      "cell_type": "code",
      "metadata": {
        "colab": {
          "base_uri": "https://localhost:8080/",
          "height": 408
        },
        "id": "nmqsOVkZXKqp",
        "outputId": "275a7853-9cad-4139-b8e0-22c4b2f532e6"
      },
      "source": [
        "plt.figure(figsize = (10,5))\n",
        "sns.distplot(x = train_df['distance'])\n",
        "plt.title('distance travelled distribution')"
      ],
      "execution_count": null,
      "outputs": [
        {
          "output_type": "stream",
          "name": "stderr",
          "text": [
            "/usr/local/lib/python3.7/dist-packages/seaborn/distributions.py:2619: FutureWarning: `distplot` is a deprecated function and will be removed in a future version. Please adapt your code to use either `displot` (a figure-level function with similar flexibility) or `histplot` (an axes-level function for histograms).\n",
            "  warnings.warn(msg, FutureWarning)\n"
          ]
        },
        {
          "output_type": "execute_result",
          "data": {
            "text/plain": [
              "Text(0.5, 1.0, 'distance travelled distribution')"
            ]
          },
          "metadata": {},
          "execution_count": 16
        },
        {
          "output_type": "display_data",
          "data": {
            "image/png": "[encoded data removed]",
            "text/plain": [
              "<Figure size 720x360 with 1 Axes>"
            ]
          },
          "metadata": {
            "needs_background": "light"
          }
        }
      ]
    },
    {
      "cell_type": "markdown",
      "metadata": {
        "id": "BZNkcSn6XkiE"
      },
      "source": [
        "Similar to time duration, we should try out the log-scale to get a better view at the data"
      ]
    },
    {
      "cell_type": "code",
      "metadata": {
        "colab": {
          "base_uri": "https://localhost:8080/",
          "height": 408
        },
        "id": "5oOrMtcZXues",
        "outputId": "29b82653-ecd7-4a59-a3d1-73e497876129"
      },
      "source": [
        "plt.figure(figsize = (10,5))\n",
        "#adding a small number to avoid the zero inside log\n",
        "sns.distplot(x = np.log(0.00001 + train_df['distance']))\n",
        "plt.title('log-scale trip distance distribution')"
      ],
      "execution_count": null,
      "outputs": [
        {
          "output_type": "stream",
          "name": "stderr",
          "text": [
            "/usr/local/lib/python3.7/dist-packages/seaborn/distributions.py:2619: FutureWarning: `distplot` is a deprecated function and will be removed in a future version. Please adapt your code to use either `displot` (a figure-level function with similar flexibility) or `histplot` (an axes-level function for histograms).\n",
            "  warnings.warn(msg, FutureWarning)\n"
          ]
        },
        {
          "output_type": "execute_result",
          "data": {
            "text/plain": [
              "Text(0.5, 1.0, 'log-scale trip distance distribution')"
            ]
          },
          "metadata": {},
          "execution_count": 17
        },
        {
          "output_type": "display_data",
          "data": {
            "image/png": "[encoded data removed]",
            "text/plain": [
              "<Figure size 720x360 with 1 Axes>"
            ]
          },
          "metadata": {
            "needs_background": "light"
          }
        }
      ]
    },
    {
      "cell_type": "markdown",
      "metadata": {
        "id": "owQSxfyEYYYG"
      },
      "source": [
        "For the trip distance too, the distribution is close to normal with most of the values being in -2.5 to 2.5 on log scale, that is, 0.082 km to 12.182 km"
      ]
    },
    {
      "cell_type": "code",
      "metadata": {
        "colab": {
          "base_uri": "https://localhost:8080/"
        },
        "id": "3yZM7ZIKCZim",
        "outputId": "95e64e02-deeb-4af9-b4a1-abb38f8ac337"
      },
      "source": [
        "#removing outlier points for distance too\n",
        "train_df.drop(train_df[train_df['distance'] > 13].index, inplace = True)\n",
        "print(train_df.shape)"
      ],
      "execution_count": null,
      "outputs": [
        {
          "output_type": "stream",
          "name": "stdout",
          "text": [
            "(1393208, 19)\n"
          ]
        }
      ]
    },
    {
      "cell_type": "code",
      "metadata": {
        "colab": {
          "base_uri": "https://localhost:8080/",
          "height": 408
        },
        "id": "kZoJ7YzpC-CE",
        "outputId": "1b0fec5a-45bd-4211-bcbb-892ebe6be40d"
      },
      "source": [
        "plt.figure(figsize = (10,5))\n",
        "#adding a small number to avoid the zero inside log\n",
        "sns.distplot(x = np.log(0.00001 + train_df['distance']))\n",
        "plt.title('log-scale trip distance distribution')"
      ],
      "execution_count": null,
      "outputs": [
        {
          "output_type": "stream",
          "name": "stderr",
          "text": [
            "/usr/local/lib/python3.7/dist-packages/seaborn/distributions.py:2619: FutureWarning: `distplot` is a deprecated function and will be removed in a future version. Please adapt your code to use either `displot` (a figure-level function with similar flexibility) or `histplot` (an axes-level function for histograms).\n",
            "  warnings.warn(msg, FutureWarning)\n"
          ]
        },
        {
          "output_type": "execute_result",
          "data": {
            "text/plain": [
              "Text(0.5, 1.0, 'log-scale trip distance distribution')"
            ]
          },
          "metadata": {},
          "execution_count": 19
        },
        {
          "output_type": "display_data",
          "data": {
            "image/png": "[encoded data removed]",
            "text/plain": [
              "<Figure size 720x360 with 1 Axes>"
            ]
          },
          "metadata": {
            "needs_background": "light"
          }
        }
      ]
    },
    {
      "cell_type": "markdown",
      "metadata": {
        "id": "NhGVU1XHZcEO"
      },
      "source": [
        "Number of rides on different weekdays"
      ]
    },
    {
      "cell_type": "code",
      "metadata": {
        "colab": {
          "base_uri": "https://localhost:8080/",
          "height": 415
        },
        "id": "ukI2nXoGYOFt",
        "outputId": "fbc15326-5b71-4604-ae6e-76f5495444d1"
      },
      "source": [
        "plt.figure(figsize = (10,5))\n",
        "plt.xticks(rotation=90)\n",
        "sns.countplot(x = train_df['pickup_day_of_week'])\n",
        "plt.title('Number of trips according to weekdays from dataset')"
      ],
      "execution_count": null,
      "outputs": [
        {
          "output_type": "execute_result",
          "data": {
            "text/plain": [
              "Text(0.5, 1.0, 'Number of trips according to weekdays from dataset')"
            ]
          },
          "metadata": {},
          "execution_count": 20
        },
        {
          "output_type": "display_data",
          "data": {
            "image/png": "[encoded data removed]",
            "text/plain": [
              "<Figure size 720x360 with 1 Axes>"
            ]
          },
          "metadata": {
            "needs_background": "light"
          }
        }
      ]
    },
    {
      "cell_type": "markdown",
      "metadata": {
        "id": "XQxcrH_GaTdn"
      },
      "source": [
        "Though all of the days do not have much difference in number of trips as compared to the number of trips, friday has highest number of trips, counts can be seen below as 213439"
      ]
    },
    {
      "cell_type": "code",
      "metadata": {
        "colab": {
          "base_uri": "https://localhost:8080/"
        },
        "id": "Au_aIpTqajJL",
        "outputId": "3035216a-158c-4b82-e776-d6782e76016d"
      },
      "source": [
        "train_df['pickup_day_of_week'].value_counts()"
      ],
      "execution_count": null,
      "outputs": [
        {
          "output_type": "execute_result",
          "data": {
            "text/plain": [
              "Friday       213439\n",
              "Saturday     212795\n",
              "Thursday     208411\n",
              "Wednesday    200991\n",
              "Tuesday      194056\n",
              "Sunday       185622\n",
              "Monday       177894\n",
              "Name: pickup_day_of_week, dtype: int64"
            ]
          },
          "metadata": {},
          "execution_count": 21
        }
      ]
    },
    {
      "cell_type": "markdown",
      "metadata": {
        "id": "DWtUWq5tfhv8"
      },
      "source": [
        "Average Speed Distribution"
      ]
    },
    {
      "cell_type": "code",
      "metadata": {
        "colab": {
          "base_uri": "https://localhost:8080/",
          "height": 408
        },
        "id": "M1zxL98HfgxZ",
        "outputId": "4d72d4d9-246f-4825-9b6a-0ccb41b993f8"
      },
      "source": [
        "plt.figure(figsize = (10,5))\n",
        "sns.distplot(x = np.log(0.00001 + train_df['avg_speed']))\n",
        "plt.title('Average speed distribution (log-scale)')"
      ],
      "execution_count": null,
      "outputs": [
        {
          "output_type": "stream",
          "name": "stderr",
          "text": [
            "/usr/local/lib/python3.7/dist-packages/seaborn/distributions.py:2619: FutureWarning: `distplot` is a deprecated function and will be removed in a future version. Please adapt your code to use either `displot` (a figure-level function with similar flexibility) or `histplot` (an axes-level function for histograms).\n",
            "  warnings.warn(msg, FutureWarning)\n"
          ]
        },
        {
          "output_type": "execute_result",
          "data": {
            "text/plain": [
              "Text(0.5, 1.0, 'Average speed distribution (log-scale)')"
            ]
          },
          "metadata": {},
          "execution_count": 22
        },
        {
          "output_type": "display_data",
          "data": {
            "image/png": "[encoded data removed]",
            "text/plain": [
              "<Figure size 720x360 with 1 Axes>"
            ]
          },
          "metadata": {
            "needs_background": "light"
          }
        }
      ]
    },
    {
      "cell_type": "markdown",
      "metadata": {
        "id": "-r9MPSzbgK2s"
      },
      "source": [
        "As expected, the speed follows as normal distribution, with most of the values in -8 to -4 on log-scale, that is, 0.0003354 km/sec to 0.0183 km/sec"
      ]
    },
    {
      "cell_type": "markdown",
      "metadata": {
        "id": "Slz4fAegayIG"
      },
      "source": [
        "Taking available attributes(those available for testing data too) to get the heat map, only numerical features"
      ]
    },
    {
      "cell_type": "code",
      "metadata": {
        "colab": {
          "base_uri": "https://localhost:8080/"
        },
        "id": "82YuyYG9DhpW",
        "outputId": "bd7b6225-744c-4bef-a183-01a86fc7764f"
      },
      "source": [
        "#Mean and standard deviation of pickup and dro locations\n",
        "print('-------------------Pickup Longitude-------------------')\n",
        "print('Mean:', np.mean(train_df['pickup_longitude']))\n",
        "print('Std. Deviation:', np.std(train_df['pickup_longitude']))\n",
        "print('-------------------Pickup Latitude-------------------')\n",
        "print('Mean:', np.mean(train_df['pickup_latitude']))\n",
        "print('Std. Deviation:', np.std(train_df['pickup_latitude']))\n",
        "print('-------------------Dropoff Longitude-------------------')\n",
        "print('Mean:', np.mean(train_df['dropoff_longitude']))\n",
        "print('Std. Deviation:', np.std(train_df['dropoff_longitude']))\n",
        "print('-------------------Dropoff Latitude-------------------')\n",
        "print('Mean:', np.mean(train_df['dropoff_latitude']))\n",
        "print('Std. Deviation:', np.std(train_df['dropoff_latitude']))"
      ],
      "execution_count": null,
      "outputs": [
        {
          "output_type": "stream",
          "name": "stdout",
          "text": [
            "-------------------Pickup Longitude-------------------\n",
            "Mean: -73.97747069756771\n",
            "Std. Deviation: 0.06634475001643511\n",
            "-------------------Pickup Latitude-------------------\n",
            "Mean: 40.75290252393932\n",
            "Std. Deviation: 0.026946459845785534\n",
            "-------------------Dropoff Longitude-------------------\n",
            "Mean: -73.97538255143783\n",
            "Std. Deviation: 0.06655193324370191\n",
            "-------------------Dropoff Latitude-------------------\n",
            "Mean: 40.75303251151853\n",
            "Std. Deviation: 0.030927456028834347\n"
          ]
        }
      ]
    },
    {
      "cell_type": "markdown",
      "metadata": {
        "id": "KxMBUIugESsU"
      },
      "source": [
        "The standard deviation of all the above parameters is very small, hence we can infer that the trips are limited to a particular area and indeed it was correct to remove some outlier points according to distance and time from the dataset"
      ]
    },
    {
      "cell_type": "code",
      "metadata": {
        "id": "n_nl6kvqanBH"
      },
      "source": [
        "available_attributes = ['vendor_id', 'passenger_count','pickup_longitude','pickup_latitude',\n",
        "                        'dropoff_longitude','dropoff_latitude','trip_duration',\n",
        "                        'pickup_time','distance']"
      ],
      "execution_count": null,
      "outputs": []
    },
    {
      "cell_type": "code",
      "metadata": {
        "colab": {
          "base_uri": "https://localhost:8080/",
          "height": 206
        },
        "id": "3gfStAGQbuvb",
        "outputId": "7e87b3d7-8f7a-4930-d33f-4343a38a556b"
      },
      "source": [
        "corr_df = train_df[available_attributes]\n",
        "corr_df.head()"
      ],
      "execution_count": null,
      "outputs": [
        {
          "output_type": "execute_result",
          "data": {
            "text/html": [
              "<div>\n",
              "<style scoped>\n",
              "    .dataframe tbody tr th:only-of-type {\n",
              "        vertical-align: middle;\n",
              "    }\n",
              "\n",
              "    .dataframe tbody tr th {\n",
              "        vertical-align: top;\n",
              "    }\n",
              "\n",
              "    .dataframe thead th {\n",
              "        text-align: right;\n",
              "    }\n",
              "</style>\n",
              "<table border=\"1\" class=\"dataframe\">\n",
              "  <thead>\n",
              "    <tr style=\"text-align: right;\">\n",
              "      <th></th>\n",
              "      <th>vendor_id</th>\n",
              "      <th>passenger_count</th>\n",
              "      <th>pickup_longitude</th>\n",
              "      <th>pickup_latitude</th>\n",
              "      <th>dropoff_longitude</th>\n",
              "      <th>dropoff_latitude</th>\n",
              "      <th>trip_duration</th>\n",
              "      <th>pickup_time</th>\n",
              "      <th>distance</th>\n",
              "    </tr>\n",
              "  </thead>\n",
              "  <tbody>\n",
              "    <tr>\n",
              "      <th>0</th>\n",
              "      <td>2</td>\n",
              "      <td>1</td>\n",
              "      <td>-73.982155</td>\n",
              "      <td>40.767937</td>\n",
              "      <td>-73.964630</td>\n",
              "      <td>40.765602</td>\n",
              "      <td>455</td>\n",
              "      <td>17.400000</td>\n",
              "      <td>1.498521</td>\n",
              "    </tr>\n",
              "    <tr>\n",
              "      <th>1</th>\n",
              "      <td>1</td>\n",
              "      <td>1</td>\n",
              "      <td>-73.980415</td>\n",
              "      <td>40.738564</td>\n",
              "      <td>-73.999481</td>\n",
              "      <td>40.731152</td>\n",
              "      <td>663</td>\n",
              "      <td>0.716667</td>\n",
              "      <td>1.805507</td>\n",
              "    </tr>\n",
              "    <tr>\n",
              "      <th>2</th>\n",
              "      <td>2</td>\n",
              "      <td>1</td>\n",
              "      <td>-73.979027</td>\n",
              "      <td>40.763939</td>\n",
              "      <td>-74.005333</td>\n",
              "      <td>40.710087</td>\n",
              "      <td>2124</td>\n",
              "      <td>11.583333</td>\n",
              "      <td>6.385098</td>\n",
              "    </tr>\n",
              "    <tr>\n",
              "      <th>3</th>\n",
              "      <td>2</td>\n",
              "      <td>1</td>\n",
              "      <td>-74.010040</td>\n",
              "      <td>40.719971</td>\n",
              "      <td>-74.012268</td>\n",
              "      <td>40.706718</td>\n",
              "      <td>429</td>\n",
              "      <td>19.533333</td>\n",
              "      <td>1.485498</td>\n",
              "    </tr>\n",
              "    <tr>\n",
              "      <th>4</th>\n",
              "      <td>2</td>\n",
              "      <td>1</td>\n",
              "      <td>-73.973053</td>\n",
              "      <td>40.793209</td>\n",
              "      <td>-73.972923</td>\n",
              "      <td>40.782520</td>\n",
              "      <td>435</td>\n",
              "      <td>13.500000</td>\n",
              "      <td>1.188588</td>\n",
              "    </tr>\n",
              "  </tbody>\n",
              "</table>\n",
              "</div>"
            ],
            "text/plain": [
              "   vendor_id  passenger_count  ...  pickup_time  distance\n",
              "0          2                1  ...    17.400000  1.498521\n",
              "1          1                1  ...     0.716667  1.805507\n",
              "2          2                1  ...    11.583333  6.385098\n",
              "3          2                1  ...    19.533333  1.485498\n",
              "4          2                1  ...    13.500000  1.188588\n",
              "\n",
              "[5 rows x 9 columns]"
            ]
          },
          "metadata": {},
          "execution_count": 25
        }
      ]
    },
    {
      "cell_type": "code",
      "metadata": {
        "colab": {
          "base_uri": "https://localhost:8080/",
          "height": 582
        },
        "id": "YhjUtcF9bxm4",
        "outputId": "4a673db7-a157-4e70-a1c6-8b192ddff47e"
      },
      "source": [
        "plt.figure(figsize=(8,8))\n",
        "corr = corr_df.corr()\n",
        "sns.heatmap(corr, annot=True, cmap=\"YlGnBu\" )"
      ],
      "execution_count": null,
      "outputs": [
        {
          "output_type": "execute_result",
          "data": {
            "text/plain": [
              "<matplotlib.axes._subplots.AxesSubplot at 0x7fde2a261e90>"
            ]
          },
          "metadata": {},
          "execution_count": 26
        },
        {
          "output_type": "display_data",
          "data": {
            "image/png": "[encoded data removed]",
            "text/plain": [
              "<Figure size 576x576 with 2 Axes>"
            ]
          },
          "metadata": {
            "needs_background": "light"
          }
        }
      ]
    },
    {
      "cell_type": "markdown",
      "metadata": {
        "id": "6v-hjOxIEvMR"
      },
      "source": [
        "The heat map shows that, the distance has a high correlation with the duration of trip and the correlation between pickup and drop location parameters shows that they are not far away from each other"
      ]
    },
    {
      "cell_type": "code",
      "metadata": {
        "colab": {
          "base_uri": "https://localhost:8080/",
          "height": 226
        },
        "id": "a8FMSV2XkVi6",
        "outputId": "60b7ed78-54fa-484a-9eb9-c8df1c27dbcc"
      },
      "source": [
        "train = train_df[['vendor_id','passenger_count','pickup_longitude','pickup_latitude',\n",
        "                  'dropoff_longitude','dropoff_latitude','store_and_fwd_flag','trip_duration',\n",
        "                  'pickup_day','pickup_time','pickup_day_of_week','distance']]\n",
        "                  #dropping the trip id as it is just an identifier\n",
        "\n",
        "#one hot encoding\n",
        "train = pd.concat([train.drop('pickup_day_of_week', axis = 1), pd.get_dummies(train['pickup_day_of_week'])], axis = 1)\n",
        "train = pd.concat([train.drop('store_and_fwd_flag', axis = 1), pd.get_dummies(train['store_and_fwd_flag'])], axis = 1)\n",
        "train = pd.concat([train.drop('vendor_id', axis = 1), pd.get_dummies(train['vendor_id'], prefix = 'vendor_id')], axis = 1)\n",
        "train.head()"
      ],
      "execution_count": null,
      "outputs": [
        {
          "output_type": "execute_result",
          "data": {
            "text/html": [
              "<div>\n",
              "<style scoped>\n",
              "    .dataframe tbody tr th:only-of-type {\n",
              "        vertical-align: middle;\n",
              "    }\n",
              "\n",
              "    .dataframe tbody tr th {\n",
              "        vertical-align: top;\n",
              "    }\n",
              "\n",
              "    .dataframe thead th {\n",
              "        text-align: right;\n",
              "    }\n",
              "</style>\n",
              "<table border=\"1\" class=\"dataframe\">\n",
              "  <thead>\n",
              "    <tr style=\"text-align: right;\">\n",
              "      <th></th>\n",
              "      <th>passenger_count</th>\n",
              "      <th>pickup_longitude</th>\n",
              "      <th>pickup_latitude</th>\n",
              "      <th>dropoff_longitude</th>\n",
              "      <th>dropoff_latitude</th>\n",
              "      <th>trip_duration</th>\n",
              "      <th>pickup_day</th>\n",
              "      <th>pickup_time</th>\n",
              "      <th>distance</th>\n",
              "      <th>Friday</th>\n",
              "      <th>Monday</th>\n",
              "      <th>Saturday</th>\n",
              "      <th>Sunday</th>\n",
              "      <th>Thursday</th>\n",
              "      <th>Tuesday</th>\n",
              "      <th>Wednesday</th>\n",
              "      <th>N</th>\n",
              "      <th>Y</th>\n",
              "      <th>vendor_id_1</th>\n",
              "      <th>vendor_id_2</th>\n",
              "    </tr>\n",
              "  </thead>\n",
              "  <tbody>\n",
              "    <tr>\n",
              "      <th>0</th>\n",
              "      <td>1</td>\n",
              "      <td>-73.982155</td>\n",
              "      <td>40.767937</td>\n",
              "      <td>-73.964630</td>\n",
              "      <td>40.765602</td>\n",
              "      <td>455</td>\n",
              "      <td>3.451613</td>\n",
              "      <td>17.400000</td>\n",
              "      <td>1.498521</td>\n",
              "      <td>0</td>\n",
              "      <td>1</td>\n",
              "      <td>0</td>\n",
              "      <td>0</td>\n",
              "      <td>0</td>\n",
              "      <td>0</td>\n",
              "      <td>0</td>\n",
              "      <td>1</td>\n",
              "      <td>0</td>\n",
              "      <td>0</td>\n",
              "      <td>1</td>\n",
              "    </tr>\n",
              "    <tr>\n",
              "      <th>1</th>\n",
              "      <td>1</td>\n",
              "      <td>-73.980415</td>\n",
              "      <td>40.738564</td>\n",
              "      <td>-73.999481</td>\n",
              "      <td>40.731152</td>\n",
              "      <td>663</td>\n",
              "      <td>6.387097</td>\n",
              "      <td>0.716667</td>\n",
              "      <td>1.805507</td>\n",
              "      <td>0</td>\n",
              "      <td>0</td>\n",
              "      <td>0</td>\n",
              "      <td>1</td>\n",
              "      <td>0</td>\n",
              "      <td>0</td>\n",
              "      <td>0</td>\n",
              "      <td>1</td>\n",
              "      <td>0</td>\n",
              "      <td>1</td>\n",
              "      <td>0</td>\n",
              "    </tr>\n",
              "    <tr>\n",
              "      <th>2</th>\n",
              "      <td>1</td>\n",
              "      <td>-73.979027</td>\n",
              "      <td>40.763939</td>\n",
              "      <td>-74.005333</td>\n",
              "      <td>40.710087</td>\n",
              "      <td>2124</td>\n",
              "      <td>1.612903</td>\n",
              "      <td>11.583333</td>\n",
              "      <td>6.385098</td>\n",
              "      <td>0</td>\n",
              "      <td>0</td>\n",
              "      <td>0</td>\n",
              "      <td>0</td>\n",
              "      <td>0</td>\n",
              "      <td>1</td>\n",
              "      <td>0</td>\n",
              "      <td>1</td>\n",
              "      <td>0</td>\n",
              "      <td>0</td>\n",
              "      <td>1</td>\n",
              "    </tr>\n",
              "    <tr>\n",
              "      <th>3</th>\n",
              "      <td>1</td>\n",
              "      <td>-74.010040</td>\n",
              "      <td>40.719971</td>\n",
              "      <td>-74.012268</td>\n",
              "      <td>40.706718</td>\n",
              "      <td>429</td>\n",
              "      <td>4.193548</td>\n",
              "      <td>19.533333</td>\n",
              "      <td>1.485498</td>\n",
              "      <td>0</td>\n",
              "      <td>0</td>\n",
              "      <td>0</td>\n",
              "      <td>0</td>\n",
              "      <td>0</td>\n",
              "      <td>0</td>\n",
              "      <td>1</td>\n",
              "      <td>1</td>\n",
              "      <td>0</td>\n",
              "      <td>0</td>\n",
              "      <td>1</td>\n",
              "    </tr>\n",
              "    <tr>\n",
              "      <th>4</th>\n",
              "      <td>1</td>\n",
              "      <td>-73.973053</td>\n",
              "      <td>40.793209</td>\n",
              "      <td>-73.972923</td>\n",
              "      <td>40.782520</td>\n",
              "      <td>435</td>\n",
              "      <td>3.838710</td>\n",
              "      <td>13.500000</td>\n",
              "      <td>1.188588</td>\n",
              "      <td>0</td>\n",
              "      <td>0</td>\n",
              "      <td>1</td>\n",
              "      <td>0</td>\n",
              "      <td>0</td>\n",
              "      <td>0</td>\n",
              "      <td>0</td>\n",
              "      <td>1</td>\n",
              "      <td>0</td>\n",
              "      <td>0</td>\n",
              "      <td>1</td>\n",
              "    </tr>\n",
              "  </tbody>\n",
              "</table>\n",
              "</div>"
            ],
            "text/plain": [
              "   passenger_count  pickup_longitude  ...  vendor_id_1  vendor_id_2\n",
              "0                1        -73.982155  ...            0            1\n",
              "1                1        -73.980415  ...            1            0\n",
              "2                1        -73.979027  ...            0            1\n",
              "3                1        -74.010040  ...            0            1\n",
              "4                1        -73.973053  ...            0            1\n",
              "\n",
              "[5 rows x 20 columns]"
            ]
          },
          "metadata": {},
          "execution_count": 27
        }
      ]
    },
    {
      "cell_type": "code",
      "metadata": {
        "colab": {
          "base_uri": "https://localhost:8080/",
          "height": 226
        },
        "id": "616tnxMNrIA0",
        "outputId": "f18971ac-7df0-4ae8-f5f0-d6bb9b24fd98"
      },
      "source": [
        "#Normalizing\n",
        "columns = ['passenger_count','pickup_longitude','pickup_latitude','dropoff_longitude','dropoff_latitude','pickup_day','pickup_time','distance']\n",
        "for c in columns:\n",
        "    mean = np.mean(train[c])\n",
        "    std = np.std(train[c])\n",
        "    train[c] = (train[c] - mean) / (0.0001 + std)\n",
        "train.head()"
      ],
      "execution_count": null,
      "outputs": [
        {
          "output_type": "execute_result",
          "data": {
            "text/html": [
              "<div>\n",
              "<style scoped>\n",
              "    .dataframe tbody tr th:only-of-type {\n",
              "        vertical-align: middle;\n",
              "    }\n",
              "\n",
              "    .dataframe tbody tr th {\n",
              "        vertical-align: top;\n",
              "    }\n",
              "\n",
              "    .dataframe thead th {\n",
              "        text-align: right;\n",
              "    }\n",
              "</style>\n",
              "<table border=\"1\" class=\"dataframe\">\n",
              "  <thead>\n",
              "    <tr style=\"text-align: right;\">\n",
              "      <th></th>\n",
              "      <th>passenger_count</th>\n",
              "      <th>pickup_longitude</th>\n",
              "      <th>pickup_latitude</th>\n",
              "      <th>dropoff_longitude</th>\n",
              "      <th>dropoff_latitude</th>\n",
              "      <th>trip_duration</th>\n",
              "      <th>pickup_day</th>\n",
              "      <th>pickup_time</th>\n",
              "      <th>distance</th>\n",
              "      <th>Friday</th>\n",
              "      <th>Monday</th>\n",
              "      <th>Saturday</th>\n",
              "      <th>Sunday</th>\n",
              "      <th>Thursday</th>\n",
              "      <th>Tuesday</th>\n",
              "      <th>Wednesday</th>\n",
              "      <th>N</th>\n",
              "      <th>Y</th>\n",
              "      <th>vendor_id_1</th>\n",
              "      <th>vendor_id_2</th>\n",
              "    </tr>\n",
              "  </thead>\n",
              "  <tbody>\n",
              "    <tr>\n",
              "      <th>0</th>\n",
              "      <td>-0.50378</td>\n",
              "      <td>-0.070497</td>\n",
              "      <td>0.555865</td>\n",
              "      <td>0.161322</td>\n",
              "      <td>0.405112</td>\n",
              "      <td>455</td>\n",
              "      <td>-0.329111</td>\n",
              "      <td>0.514711</td>\n",
              "      <td>-0.547374</td>\n",
              "      <td>0</td>\n",
              "      <td>1</td>\n",
              "      <td>0</td>\n",
              "      <td>0</td>\n",
              "      <td>0</td>\n",
              "      <td>0</td>\n",
              "      <td>0</td>\n",
              "      <td>1</td>\n",
              "      <td>0</td>\n",
              "      <td>0</td>\n",
              "      <td>1</td>\n",
              "    </tr>\n",
              "    <tr>\n",
              "      <th>1</th>\n",
              "      <td>-0.50378</td>\n",
              "      <td>-0.044317</td>\n",
              "      <td>-0.530161</td>\n",
              "      <td>-0.361560</td>\n",
              "      <td>-0.705212</td>\n",
              "      <td>663</td>\n",
              "      <td>1.398455</td>\n",
              "      <td>-2.089135</td>\n",
              "      <td>-0.417161</td>\n",
              "      <td>0</td>\n",
              "      <td>0</td>\n",
              "      <td>0</td>\n",
              "      <td>1</td>\n",
              "      <td>0</td>\n",
              "      <td>0</td>\n",
              "      <td>0</td>\n",
              "      <td>1</td>\n",
              "      <td>0</td>\n",
              "      <td>1</td>\n",
              "      <td>0</td>\n",
              "    </tr>\n",
              "    <tr>\n",
              "      <th>2</th>\n",
              "      <td>-0.50378</td>\n",
              "      <td>-0.023419</td>\n",
              "      <td>0.408053</td>\n",
              "      <td>-0.449355</td>\n",
              "      <td>-1.384119</td>\n",
              "      <td>2124</td>\n",
              "      <td>-1.411213</td>\n",
              "      <td>-0.393123</td>\n",
              "      <td>1.525342</td>\n",
              "      <td>0</td>\n",
              "      <td>0</td>\n",
              "      <td>0</td>\n",
              "      <td>0</td>\n",
              "      <td>0</td>\n",
              "      <td>1</td>\n",
              "      <td>0</td>\n",
              "      <td>1</td>\n",
              "      <td>0</td>\n",
              "      <td>0</td>\n",
              "      <td>1</td>\n",
              "    </tr>\n",
              "    <tr>\n",
              "      <th>3</th>\n",
              "      <td>-0.50378</td>\n",
              "      <td>-0.490175</td>\n",
              "      <td>-1.217602</td>\n",
              "      <td>-0.553405</td>\n",
              "      <td>-1.492680</td>\n",
              "      <td>429</td>\n",
              "      <td>0.107526</td>\n",
              "      <td>0.847671</td>\n",
              "      <td>-0.552898</td>\n",
              "      <td>0</td>\n",
              "      <td>0</td>\n",
              "      <td>0</td>\n",
              "      <td>0</td>\n",
              "      <td>0</td>\n",
              "      <td>0</td>\n",
              "      <td>1</td>\n",
              "      <td>1</td>\n",
              "      <td>0</td>\n",
              "      <td>0</td>\n",
              "      <td>1</td>\n",
              "    </tr>\n",
              "    <tr>\n",
              "      <th>4</th>\n",
              "      <td>-0.50378</td>\n",
              "      <td>0.066487</td>\n",
              "      <td>1.490271</td>\n",
              "      <td>0.036897</td>\n",
              "      <td>0.950377</td>\n",
              "      <td>435</td>\n",
              "      <td>-0.101300</td>\n",
              "      <td>-0.093980</td>\n",
              "      <td>-0.678837</td>\n",
              "      <td>0</td>\n",
              "      <td>0</td>\n",
              "      <td>1</td>\n",
              "      <td>0</td>\n",
              "      <td>0</td>\n",
              "      <td>0</td>\n",
              "      <td>0</td>\n",
              "      <td>1</td>\n",
              "      <td>0</td>\n",
              "      <td>0</td>\n",
              "      <td>1</td>\n",
              "    </tr>\n",
              "  </tbody>\n",
              "</table>\n",
              "</div>"
            ],
            "text/plain": [
              "   passenger_count  pickup_longitude  ...  vendor_id_1  vendor_id_2\n",
              "0         -0.50378         -0.070497  ...            0            1\n",
              "1         -0.50378         -0.044317  ...            1            0\n",
              "2         -0.50378         -0.023419  ...            0            1\n",
              "3         -0.50378         -0.490175  ...            0            1\n",
              "4         -0.50378          0.066487  ...            0            1\n",
              "\n",
              "[5 rows x 20 columns]"
            ]
          },
          "metadata": {},
          "execution_count": 28
        }
      ]
    },
    {
      "cell_type": "code",
      "metadata": {
        "id": "1OxTvbAtmzlj",
        "colab": {
          "base_uri": "https://localhost:8080/"
        },
        "outputId": "bf5a4f4e-a008-4d17-fbe9-c2c3d94eb174"
      },
      "source": [
        "#using 90% of dataset to train\n",
        "train_dataset = train.sample(frac=0.9, random_state=0)\n",
        "test_dataset = train.drop(train_dataset.index)\n",
        "print('Number of training Samples:',train_dataset.shape[0])\n",
        "print('Number fo test Samples:',test_dataset.shape[0])"
      ],
      "execution_count": null,
      "outputs": [
        {
          "output_type": "stream",
          "name": "stdout",
          "text": [
            "Number of training Samples: 1253887\n",
            "Number fo test Samples: 139321\n"
          ]
        }
      ]
    },
    {
      "cell_type": "code",
      "metadata": {
        "id": "4IpkRsjmobrg"
      },
      "source": [
        "#building a neural netowrk model, Ref: https://www.tensorflow.org/tutorials/keras/regression\n",
        "def build_and_compile_model():\n",
        "    model = keras.Sequential([\n",
        "    keras.Input(shape=(19,)),\n",
        "    layers.Dense(128, activation='relu'),\n",
        "    layers.Dense(256, activation='relu'),\n",
        "    layers.Dense(512, activation='relu'),\n",
        "    layers.Dense(1024, activation='relu'),\n",
        "    layers.Dropout(0.2),\n",
        "    layers.Dense(1)\n",
        "    ])\n",
        "\n",
        "    model.compile(loss='mean_absolute_error',\n",
        "                    optimizer=tf.keras.optimizers.Adam(0.001))\n",
        "    return model"
      ],
      "execution_count": null,
      "outputs": []
    },
    {
      "cell_type": "code",
      "metadata": {
        "id": "ggVr1imqoeEL"
      },
      "source": [
        "model = build_and_compile_model()"
      ],
      "execution_count": null,
      "outputs": []
    },
    {
      "cell_type": "code",
      "metadata": {
        "colab": {
          "base_uri": "https://localhost:8080/"
        },
        "id": "8TW76VJxoi_f",
        "outputId": "46161ba8-5fe9-400f-95c4-d13ea4692d8d"
      },
      "source": [
        "model.summary()"
      ],
      "execution_count": null,
      "outputs": [
        {
          "output_type": "stream",
          "name": "stdout",
          "text": [
            "Model: \"sequential\"\n",
            "_________________________________________________________________\n",
            " Layer (type)                Output Shape              Param #   \n",
            "=================================================================\n",
            " dense (Dense)               (None, 128)               2560      \n",
            "                                                                 \n",
            " dense_1 (Dense)             (None, 256)               33024     \n",
            "                                                                 \n",
            " dense_2 (Dense)             (None, 512)               131584    \n",
            "                                                                 \n",
            " dense_3 (Dense)             (None, 1024)              525312    \n",
            "                                                                 \n",
            " dropout (Dropout)           (None, 1024)              0         \n",
            "                                                                 \n",
            " dense_4 (Dense)             (None, 1)                 1025      \n",
            "                                                                 \n",
            "=================================================================\n",
            "Total params: 693,505\n",
            "Trainable params: 693,505\n",
            "Non-trainable params: 0\n",
            "_________________________________________________________________\n"
          ]
        }
      ]
    },
    {
      "cell_type": "code",
      "metadata": {
        "id": "IMaRymVooV6K"
      },
      "source": [
        "train_features = train_dataset.copy()\n",
        "test_features = test_dataset.copy()\n",
        "\n",
        "train_labels = train_features.pop('trip_duration')\n",
        "test_labels = test_features.pop('trip_duration')"
      ],
      "execution_count": null,
      "outputs": []
    },
    {
      "cell_type": "code",
      "metadata": {
        "id": "XZK0EJEmq-be"
      },
      "source": [
        "train_dataset = tf.data.Dataset.from_tensor_slices((train_features, train_labels)).batch(131072)\n",
        "test_dataset = tf.data.Dataset.from_tensor_slices((test_features,test_labels)).batch(131072)"
      ],
      "execution_count": null,
      "outputs": []
    },
    {
      "cell_type": "code",
      "metadata": {
        "id": "borRT3PholNc",
        "colab": {
          "base_uri": "https://localhost:8080/",
          "height": 672
        },
        "outputId": "9d0c5753-8dd8-415a-d3e1-811d1f0609cf"
      },
      "source": [
        "checkpoint = ModelCheckpoint(\"/content/drive/MyDrive/SEM 7/DS 203/PROJECT/model_weight.h5\", monitor='val_loss',save_best_only=True,\n",
        "                             save_weights_only=False, mode='min', verbose=1)\n",
        "\n",
        "callbacks = [PlotLossesKerasTF(), checkpoint]\n",
        "history = model.fit(\n",
        "    train_dataset,\n",
        "    validation_data=test_dataset,\n",
        "    verbose=0, epochs=150,\n",
        "    callbacks = callbacks\n",
        "    )"
      ],
      "execution_count": null,
      "outputs": [
        {
          "output_type": "display_data",
          "data": {
            "image/png": "[encoded data removed]",
            "text/plain": [
              "<Figure size 864x576 with 2 Axes>"
            ]
          },
          "metadata": {
            "needs_background": "light"
          }
        },
        {
          "output_type": "stream",
          "name": "stdout",
          "text": [
            "Loss\n",
            "\ttraining         \t (min:  163.732, max:  745.943, cur:  163.732)\n",
            "\tvalidation       \t (min:  163.379, max:  716.576, cur:  163.791)\n",
            "\n",
            "Epoch 00150: val_loss did not improve from 163.37881\n"
          ]
        }
      ]
    },
    {
      "cell_type": "markdown",
      "metadata": {
        "id": "JPOXlbHPNF8-"
      },
      "source": [
        "The validation loss and training loss are always close to each other, hence we can infer that the model is not ovefitting at all"
      ]
    },
    {
      "cell_type": "code",
      "metadata": {
        "id": "5uKznHjayPRM"
      },
      "source": [
        "y_pred = model.predict(test_features[:1000])"
      ],
      "execution_count": null,
      "outputs": []
    },
    {
      "cell_type": "markdown",
      "metadata": {
        "id": "Iv-WNVwQILd5"
      },
      "source": [
        "Prdiction for 1000 test cases vs real values of trip duration"
      ]
    },
    {
      "cell_type": "code",
      "metadata": {
        "colab": {
          "base_uri": "https://localhost:8080/",
          "height": 596
        },
        "id": "qQp4vCxILItm",
        "outputId": "5ba41bdb-eeaf-479f-90bf-f69ddc51443e"
      },
      "source": [
        "plt.figure(figsize=(10,10))\n",
        "x = test_labels[:1000]\n",
        "y = y_pred\n",
        "plt.ylim([0,3000])\n",
        "plt.scatter(x,y)\n",
        "X = np.asarray([int(i) for i in range(3000)])\n",
        "Y = X\n",
        "plt.plot(X,Y, 'r')\n",
        "plt.show()"
      ],
      "execution_count": null,
      "outputs": [
        {
          "output_type": "display_data",
          "data": {
            "image/png": "[encoded data removed]",
            "text/plain": [
              "<Figure size 720x720 with 1 Axes>"
            ]
          },
          "metadata": {
            "needs_background": "light"
          }
        }
      ]
    }
  ]
}